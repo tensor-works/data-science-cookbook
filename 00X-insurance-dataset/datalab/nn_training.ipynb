{
 "cells": [
  {
   "cell_type": "code",
   "execution_count": 11,
   "metadata": {},
   "outputs": [
    {
     "name": "stderr",
     "output_type": "stream",
     "text": [
      "/opt/conda/lib/python3.9/site-packages/tqdm/auto.py:21: TqdmWarning: IProgress not found. Please update jupyter and ipywidgets. See https://ipywidgets.readthedocs.io/en/stable/user_install.html\n",
      "  from .autonotebook import tqdm as notebook_tqdm\n",
      "2024-10-01 07:08:16,818\tINFO util.py:154 -- Missing packages: ['ipywidgets']. Run `pip install -U ipywidgets`, then restart the notebook server for rich notebook output.\n",
      "2024-10-01 07:08:16,935\tINFO util.py:154 -- Missing packages: ['ipywidgets']. Run `pip install -U ipywidgets`, then restart the notebook server for rich notebook output.\n"
     ]
    },
    {
     "data": {
      "text/plain": [
       "True"
      ]
     },
     "execution_count": 11,
     "metadata": {},
     "output_type": "execute_result"
    }
   ],
   "source": [
    "import os\n",
    "import pandas as pd\n",
    "from pathlib import Path\n",
    "from evaluators import evaluate_network_ray, evaluate_network\n",
    "from dotenv import load_dotenv\n",
    "\n",
    "load_dotenv()"
   ]
  },
  {
   "cell_type": "code",
   "execution_count": 17,
   "metadata": {},
   "outputs": [],
   "source": [
    "best_config = {\n",
    "    'lr': 0.0018068403163170293,\n",
    "    'layer_sizes': [200, 200, 200, 200],\n",
    "    'batch_size': 32,\n",
    "    'dropout_rate': 0.029777685681150384,\n",
    "    'weight_decay': 1.6260645117620318e-05,\n",
    "    'lr_decay_step': 5,\n",
    "    'lr_decay_gamma': 0.19280415837055723\n",
    "}"
   ]
  },
  {
   "cell_type": "code",
   "execution_count": 18,
   "metadata": {},
   "outputs": [
    {
     "data": {
      "text/html": [
       "<div>\n",
       "<style scoped>\n",
       "    .dataframe tbody tr th:only-of-type {\n",
       "        vertical-align: middle;\n",
       "    }\n",
       "\n",
       "    .dataframe tbody tr th {\n",
       "        vertical-align: top;\n",
       "    }\n",
       "\n",
       "    .dataframe thead th {\n",
       "        text-align: right;\n",
       "    }\n",
       "</style>\n",
       "<table border=\"1\" class=\"dataframe\">\n",
       "  <thead>\n",
       "    <tr style=\"text-align: right;\">\n",
       "      <th></th>\n",
       "      <th>id</th>\n",
       "      <th>Geschlecht</th>\n",
       "      <th>Alter</th>\n",
       "      <th>Fahrerlaubnis</th>\n",
       "      <th>Vorversicherung</th>\n",
       "      <th>Alter_Fzg</th>\n",
       "      <th>Vorschaden</th>\n",
       "      <th>Jahresbeitrag</th>\n",
       "      <th>Kundentreue</th>\n",
       "      <th>Regional_Code_0</th>\n",
       "      <th>...</th>\n",
       "      <th>Vertriebskanal_152.0</th>\n",
       "      <th>Vertriebskanal_153.0</th>\n",
       "      <th>Vertriebskanal_154.0</th>\n",
       "      <th>Vertriebskanal_155.0</th>\n",
       "      <th>Vertriebskanal_156.0</th>\n",
       "      <th>Vertriebskanal_157.0</th>\n",
       "      <th>Vertriebskanal_158.0</th>\n",
       "      <th>Vertriebskanal_159.0</th>\n",
       "      <th>Vertriebskanal_160.0</th>\n",
       "      <th>Vertriebskanal_163.0</th>\n",
       "    </tr>\n",
       "  </thead>\n",
       "  <tbody>\n",
       "    <tr>\n",
       "      <th>0</th>\n",
       "      <td>1.0</td>\n",
       "      <td>1.0</td>\n",
       "      <td>44.0</td>\n",
       "      <td>1.0</td>\n",
       "      <td>0.0</td>\n",
       "      <td>2.0</td>\n",
       "      <td>1.0</td>\n",
       "      <td>40454.0</td>\n",
       "      <td>217.0</td>\n",
       "      <td>0.0</td>\n",
       "      <td>...</td>\n",
       "      <td>0.0</td>\n",
       "      <td>0.0</td>\n",
       "      <td>0.0</td>\n",
       "      <td>0.0</td>\n",
       "      <td>0.0</td>\n",
       "      <td>0.0</td>\n",
       "      <td>0.0</td>\n",
       "      <td>0.0</td>\n",
       "      <td>0.0</td>\n",
       "      <td>0.0</td>\n",
       "    </tr>\n",
       "    <tr>\n",
       "      <th>1</th>\n",
       "      <td>2.0</td>\n",
       "      <td>1.0</td>\n",
       "      <td>76.0</td>\n",
       "      <td>1.0</td>\n",
       "      <td>0.0</td>\n",
       "      <td>0.0</td>\n",
       "      <td>0.0</td>\n",
       "      <td>33536.0</td>\n",
       "      <td>183.0</td>\n",
       "      <td>0.0</td>\n",
       "      <td>...</td>\n",
       "      <td>0.0</td>\n",
       "      <td>0.0</td>\n",
       "      <td>0.0</td>\n",
       "      <td>0.0</td>\n",
       "      <td>0.0</td>\n",
       "      <td>0.0</td>\n",
       "      <td>0.0</td>\n",
       "      <td>0.0</td>\n",
       "      <td>0.0</td>\n",
       "      <td>0.0</td>\n",
       "    </tr>\n",
       "    <tr>\n",
       "      <th>2</th>\n",
       "      <td>3.0</td>\n",
       "      <td>1.0</td>\n",
       "      <td>47.0</td>\n",
       "      <td>1.0</td>\n",
       "      <td>0.0</td>\n",
       "      <td>2.0</td>\n",
       "      <td>1.0</td>\n",
       "      <td>38294.0</td>\n",
       "      <td>27.0</td>\n",
       "      <td>0.0</td>\n",
       "      <td>...</td>\n",
       "      <td>0.0</td>\n",
       "      <td>0.0</td>\n",
       "      <td>0.0</td>\n",
       "      <td>0.0</td>\n",
       "      <td>0.0</td>\n",
       "      <td>0.0</td>\n",
       "      <td>0.0</td>\n",
       "      <td>0.0</td>\n",
       "      <td>0.0</td>\n",
       "      <td>0.0</td>\n",
       "    </tr>\n",
       "    <tr>\n",
       "      <th>3</th>\n",
       "      <td>4.0</td>\n",
       "      <td>1.0</td>\n",
       "      <td>21.0</td>\n",
       "      <td>1.0</td>\n",
       "      <td>1.0</td>\n",
       "      <td>1.0</td>\n",
       "      <td>0.0</td>\n",
       "      <td>28619.0</td>\n",
       "      <td>203.0</td>\n",
       "      <td>0.0</td>\n",
       "      <td>...</td>\n",
       "      <td>1.0</td>\n",
       "      <td>0.0</td>\n",
       "      <td>0.0</td>\n",
       "      <td>0.0</td>\n",
       "      <td>0.0</td>\n",
       "      <td>0.0</td>\n",
       "      <td>0.0</td>\n",
       "      <td>0.0</td>\n",
       "      <td>0.0</td>\n",
       "      <td>0.0</td>\n",
       "    </tr>\n",
       "    <tr>\n",
       "      <th>4</th>\n",
       "      <td>5.0</td>\n",
       "      <td>0.0</td>\n",
       "      <td>29.0</td>\n",
       "      <td>1.0</td>\n",
       "      <td>1.0</td>\n",
       "      <td>1.0</td>\n",
       "      <td>0.0</td>\n",
       "      <td>27496.0</td>\n",
       "      <td>39.0</td>\n",
       "      <td>0.0</td>\n",
       "      <td>...</td>\n",
       "      <td>1.0</td>\n",
       "      <td>0.0</td>\n",
       "      <td>0.0</td>\n",
       "      <td>0.0</td>\n",
       "      <td>0.0</td>\n",
       "      <td>0.0</td>\n",
       "      <td>0.0</td>\n",
       "      <td>0.0</td>\n",
       "      <td>0.0</td>\n",
       "      <td>0.0</td>\n",
       "    </tr>\n",
       "  </tbody>\n",
       "</table>\n",
       "<p>5 rows × 217 columns</p>\n",
       "</div>"
      ],
      "text/plain": [
       "    id  Geschlecht  Alter  Fahrerlaubnis  Vorversicherung  Alter_Fzg  \\\n",
       "0  1.0         1.0   44.0            1.0              0.0        2.0   \n",
       "1  2.0         1.0   76.0            1.0              0.0        0.0   \n",
       "2  3.0         1.0   47.0            1.0              0.0        2.0   \n",
       "3  4.0         1.0   21.0            1.0              1.0        1.0   \n",
       "4  5.0         0.0   29.0            1.0              1.0        1.0   \n",
       "\n",
       "   Vorschaden  Jahresbeitrag  Kundentreue  Regional_Code_0  ...  \\\n",
       "0         1.0        40454.0        217.0              0.0  ...   \n",
       "1         0.0        33536.0        183.0              0.0  ...   \n",
       "2         1.0        38294.0         27.0              0.0  ...   \n",
       "3         0.0        28619.0        203.0              0.0  ...   \n",
       "4         0.0        27496.0         39.0              0.0  ...   \n",
       "\n",
       "   Vertriebskanal_152.0  Vertriebskanal_153.0  Vertriebskanal_154.0  \\\n",
       "0                   0.0                   0.0                   0.0   \n",
       "1                   0.0                   0.0                   0.0   \n",
       "2                   0.0                   0.0                   0.0   \n",
       "3                   1.0                   0.0                   0.0   \n",
       "4                   1.0                   0.0                   0.0   \n",
       "\n",
       "   Vertriebskanal_155.0  Vertriebskanal_156.0  Vertriebskanal_157.0  \\\n",
       "0                   0.0                   0.0                   0.0   \n",
       "1                   0.0                   0.0                   0.0   \n",
       "2                   0.0                   0.0                   0.0   \n",
       "3                   0.0                   0.0                   0.0   \n",
       "4                   0.0                   0.0                   0.0   \n",
       "\n",
       "   Vertriebskanal_158.0  Vertriebskanal_159.0  Vertriebskanal_160.0  \\\n",
       "0                   0.0                   0.0                   0.0   \n",
       "1                   0.0                   0.0                   0.0   \n",
       "2                   0.0                   0.0                   0.0   \n",
       "3                   0.0                   0.0                   0.0   \n",
       "4                   0.0                   0.0                   0.0   \n",
       "\n",
       "   Vertriebskanal_163.0  \n",
       "0                   0.0  \n",
       "1                   0.0  \n",
       "2                   0.0  \n",
       "3                   0.0  \n",
       "4                   0.0  \n",
       "\n",
       "[5 rows x 217 columns]"
      ]
     },
     "execution_count": 18,
     "metadata": {},
     "output_type": "execute_result"
    }
   ],
   "source": [
    "# Assuming feature_df and targets_df are already defined\n",
    "data_dir = os.getenv(\"DATA\")\n",
    "encoded_df = pd.read_csv(Path(data_dir) / \"encoded_df.csv\")\n",
    "targets_df = pd.read_csv(Path(data_dir) / \"target.csv\")\n",
    "encoded_df.head()"
   ]
  },
  {
   "cell_type": "code",
   "execution_count": 19,
   "metadata": {},
   "outputs": [],
   "source": [
    "from sklearn.preprocessing import MinMaxScaler\n",
    "\n",
    "scaler = MinMaxScaler()\n",
    "\n",
    "\n",
    "minmax_df = pd.DataFrame(scaler.fit_transform(encoded_df.drop(columns=\"id\")),\n",
    "                         columns=encoded_df.columns.difference([\"id\"]))"
   ]
  },
  {
   "cell_type": "code",
   "execution_count": 20,
   "metadata": {},
   "outputs": [
    {
     "data": {
      "text/plain": [
       "(381109, 216)"
      ]
     },
     "execution_count": 20,
     "metadata": {},
     "output_type": "execute_result"
    }
   ],
   "source": [
    "ids = encoded_df.id\n",
    "y = targets_df.set_index(\"id\").loc[ids][\"Interesse\"].values\n",
    "X = minmax_df.values\n",
    "X.shape"
   ]
  },
  {
   "cell_type": "code",
   "execution_count": 22,
   "metadata": {},
   "outputs": [
    {
     "name": "stdout",
     "output_type": "stream",
     "text": [
      "\n"
     ]
    },
    {
     "name": "stderr",
     "output_type": "stream",
     "text": [
      "/opt/conda/lib/python3.9/site-packages/ray/train/_internal/session.py:652: UserWarning: `report` is meant to only be called inside a function that is executed by a Tuner or Trainer. Returning `None`.\n",
      "  warnings.warn(\n"
     ]
    },
    {
     "name": "stdout",
     "output_type": "stream",
     "text": [
      "Epoch 1, Loss: 2265.53, LR: 0.00, ROC AUC: 0.85, PR AUC: 0.35, F1: 0.00\n",
      "\n",
      "Epoch 2, Loss: 2234.64, LR: 0.00, ROC AUC: 0.85, PR AUC: 0.36, F1: 0.00\n",
      "\n",
      "Epoch 3, Loss: 2229.92, LR: 0.00, ROC AUC: 0.85, PR AUC: 0.36, F1: 0.00\n",
      "\n",
      "Epoch 4, Loss: 2225.92, LR: 0.00, ROC AUC: 0.86, PR AUC: 0.36, F1: 0.00\n",
      "\n",
      "Epoch 5, Loss: 2222.73, LR: 0.00, ROC AUC: 0.86, PR AUC: 0.36, F1: 0.00\n",
      "\n",
      "Epoch 6, Loss: 2202.25, LR: 0.00, ROC AUC: 0.86, PR AUC: 0.37, F1: 0.00\n",
      "\n",
      "Epoch 7, Loss: 2198.71, LR: 0.00, ROC AUC: 0.86, PR AUC: 0.36, F1: 0.00\n",
      "\n",
      "Epoch 8, Loss: 2196.80, LR: 0.00, ROC AUC: 0.86, PR AUC: 0.37, F1: 0.00\n",
      "\n",
      "Epoch 9, Loss: 2195.30, LR: 0.00, ROC AUC: 0.86, PR AUC: 0.37, F1: 0.00\n",
      "\n",
      "Epoch 10, Loss: 2195.16, LR: 0.00, ROC AUC: 0.86, PR AUC: 0.37, F1: 0.00\n",
      "\n",
      "Epoch 11, Loss: 2187.43, LR: 0.00, ROC AUC: 0.86, PR AUC: 0.37, F1: 0.00\n",
      "\n",
      "Epoch 12, Loss: 2186.57, LR: 0.00, ROC AUC: 0.86, PR AUC: 0.37, F1: 0.00\n",
      "\n",
      "Epoch 13, Loss: 2185.93, LR: 0.00, ROC AUC: 0.86, PR AUC: 0.37, F1: 0.00\n",
      "\n",
      "Epoch 14, Loss: 2184.45, LR: 0.00, ROC AUC: 0.86, PR AUC: 0.37, F1: 0.02\n",
      "\n",
      "Epoch 15, Loss: 2184.03, LR: 0.00, ROC AUC: 0.86, PR AUC: 0.37, F1: 0.01\n",
      "\n",
      "Epoch 16, Loss: 2182.40, LR: 0.00, ROC AUC: 0.86, PR AUC: 0.36, F1: 0.02\n",
      "\n",
      "Epoch 17, Loss: 2181.89, LR: 0.00, ROC AUC: 0.86, PR AUC: 0.36, F1: 0.01\n",
      "\n",
      "Epoch 18, Loss: 2181.12, LR: 0.00, ROC AUC: 0.86, PR AUC: 0.36, F1: 0.01\n",
      "\n",
      "Epoch 19, Loss: 2182.35, LR: 0.00, ROC AUC: 0.86, PR AUC: 0.36, F1: 0.01\n",
      "\n",
      "Epoch 20, Loss: 2181.80, LR: 0.00, ROC AUC: 0.86, PR AUC: 0.36, F1: 0.01\n"
     ]
    }
   ],
   "source": [
    "_,_,_,model = evaluate_network_ray(X, y, **best_config)"
   ]
  },
  {
   "cell_type": "code",
   "execution_count": 26,
   "metadata": {},
   "outputs": [
    {
     "ename": "AttributeError",
     "evalue": "Can't pickle local object 'evaluate_network_ray.<locals>.SimpleNN'",
     "output_type": "error",
     "traceback": [
      "\u001b[0;31m---------------------------------------------------------------------------\u001b[0m",
      "\u001b[0;31mAttributeError\u001b[0m                            Traceback (most recent call last)",
      "Cell \u001b[0;32mIn[26], line 8\u001b[0m\n\u001b[1;32m      6\u001b[0m \u001b[38;5;66;03m# Save the model to disk\u001b[39;00m\n\u001b[1;32m      7\u001b[0m \u001b[38;5;28;01mwith\u001b[39;00m \u001b[38;5;28mopen\u001b[39m(model_filename, \u001b[38;5;124m'\u001b[39m\u001b[38;5;124mwb\u001b[39m\u001b[38;5;124m'\u001b[39m) \u001b[38;5;28;01mas\u001b[39;00m file:\n\u001b[0;32m----> 8\u001b[0m     \u001b[43mpickle\u001b[49m\u001b[38;5;241;43m.\u001b[39;49m\u001b[43mdump\u001b[49m\u001b[43m(\u001b[49m\u001b[43mmodel\u001b[49m\u001b[43m[\u001b[49m\u001b[38;5;241;43m3\u001b[39;49m\u001b[43m]\u001b[49m\u001b[38;5;241;43m.\u001b[39;49m\u001b[43mto\u001b[49m\u001b[43m(\u001b[49m\u001b[38;5;124;43m\"\u001b[39;49m\u001b[38;5;124;43mcpu\u001b[39;49m\u001b[38;5;124;43m\"\u001b[39;49m\u001b[43m)\u001b[49m\u001b[43m,\u001b[49m\u001b[43m \u001b[49m\u001b[43mfile\u001b[49m\u001b[43m)\u001b[49m\n",
      "\u001b[0;31mAttributeError\u001b[0m: Can't pickle local object 'evaluate_network_ray.<locals>.SimpleNN'"
     ]
    }
   ],
   "source": [
    "import pickle\n",
    "\n",
    "# Assuming 'model' is your trained model\n",
    "model_filename = Path(os.getenv(\"WORKINGDIR\"), 'model.pkl')\n",
    "\n",
    "# Save the model to disk\n",
    "with open(model_filename, 'wb') as file:\n",
    "    pickle.dump(model[3].to(\"cpu\"), file)"
   ]
  },
  {
   "cell_type": "code",
   "execution_count": 25,
   "metadata": {},
   "outputs": [
    {
     "data": {
      "text/plain": [
       "SimpleNN(\n",
       "  (layers): ModuleList(\n",
       "    (0): Linear(in_features=216, out_features=200, bias=True)\n",
       "    (1): ReLU()\n",
       "    (2): Dropout(p=0.029777685681150384, inplace=False)\n",
       "    (3): Linear(in_features=200, out_features=200, bias=True)\n",
       "    (4): ReLU()\n",
       "    (5): Dropout(p=0.029777685681150384, inplace=False)\n",
       "    (6): Linear(in_features=200, out_features=200, bias=True)\n",
       "    (7): ReLU()\n",
       "    (8): Dropout(p=0.029777685681150384, inplace=False)\n",
       "    (9): Linear(in_features=200, out_features=200, bias=True)\n",
       "    (10): ReLU()\n",
       "    (11): Dropout(p=0.029777685681150384, inplace=False)\n",
       "    (12): Linear(in_features=200, out_features=1, bias=True)\n",
       "    (13): Sigmoid()\n",
       "  )\n",
       ")"
      ]
     },
     "execution_count": 25,
     "metadata": {},
     "output_type": "execute_result"
    }
   ],
   "source": [
    "model[3]"
   ]
  },
  {
   "cell_type": "code",
   "execution_count": null,
   "metadata": {},
   "outputs": [],
   "source": []
  }
 ],
 "metadata": {
  "kernelspec": {
   "display_name": "base",
   "language": "python",
   "name": "python3"
  },
  "language_info": {
   "codemirror_mode": {
    "name": "ipython",
    "version": 3
   },
   "file_extension": ".py",
   "mimetype": "text/x-python",
   "name": "python",
   "nbconvert_exporter": "python",
   "pygments_lexer": "ipython3",
   "version": "3.9.20"
  }
 },
 "nbformat": 4,
 "nbformat_minor": 2
}
